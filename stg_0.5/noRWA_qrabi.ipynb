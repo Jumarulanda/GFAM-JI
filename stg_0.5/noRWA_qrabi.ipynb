{
 "cells": [
  {
   "cell_type": "code",
   "execution_count": 1,
   "metadata": {},
   "outputs": [],
   "source": [
    "import numpy as np\n",
    "import matplotlib.pyplot as plt\n",
    "import rk_int as odeint\n",
    "\n",
    "%matplotlib inline\n",
    "plt.rcParams[\"font.family\"] = \"serif\"\n",
    "plt.rcParams['mathtext.fontset'] = 'dejavuserif'\n",
    "plt.rcParams['mathtext.rm'] = 'dejavuserif'\n",
    "plt.rcParams['mathtext.it'] = 'dejavuserif'"
   ]
  },
  {
   "cell_type": "code",
   "execution_count": 13,
   "metadata": {},
   "outputs": [],
   "source": [
    "# ODE for coefficients\n",
    "\n",
    "def c_ndot(t,c_n,n,is_g,*args):\n",
    "    omeg,lamb,det = args\n",
    "    cg = [c_n[i] for i in range(0,len(c_n),2)] + [0]\n",
    "    ce = [c_n[i] for i in range(1,len(c_n),2)] + [0]\n",
    "    \n",
    "    if is_g:\n",
    "        c_1 = cg\n",
    "        c_2 = ce\n",
    "#         p1 = (omeg*(n-0.5) + det*0.5)*c_1[n]\n",
    "        p1 = det*c_1[n]\n",
    "    else:\n",
    "        c_1 = ce\n",
    "        c_2 = cg\n",
    "#         p1 = (omeg*(n+0.5) - det*0.5)*c_1[n]\n",
    "        p1 = 0\n",
    "        \n",
    "    p2 = lamb*np.sqrt(n+1)*c_2[n+1]\n",
    "    p3 = lamb*np.sqrt(n)*c_2[n-1]\n",
    "    \n",
    "    return -1j*(p1+p2+p3)\n"
   ]
  },
  {
   "cell_type": "code",
   "execution_count": 14,
   "metadata": {},
   "outputs": [],
   "source": [
    "# For 5 photons\n",
    "\n",
    "def c_g0(t,c_n,*args):\n",
    "    return c_ndot(t,c_n,0,True,*args)\n",
    "def c_e0(t,c_n,*args):\n",
    "    return c_ndot(t,c_n,0,False,*args)\n",
    "\n",
    "def c_g1(t,c_n,*args):\n",
    "    return c_ndot(t,c_n,1,True,*args)\n",
    "def c_e1(t,c_n,*args):\n",
    "    return c_ndot(t,c_n,1,False,*args)\n",
    "\n",
    "def c_g2(t,c_n,*args):\n",
    "    return c_ndot(t,c_n,2,True,*args)\n",
    "def c_e2(t,c_n,*args):\n",
    "    return c_ndot(t,c_n,2,False,*args)\n",
    "\n",
    "def c_g3(t,c_n,*args):\n",
    "    return c_ndot(t,c_n,3,True,*args)\n",
    "def c_e3(t,c_n,*args):\n",
    "    return c_ndot(t,c_n,3,False,*args)\n",
    "\n",
    "def c_g4(t,c_n,*args):\n",
    "    return c_ndot(t,c_n,4,True,*args)\n",
    "def c_e4(t,c_n,*args):\n",
    "    return c_ndot(t,c_n,4,False,*args)\n",
    "\n",
    "def c_g5(t,c_n,*args):\n",
    "    return c_ndot(t,c_n,5,True,*args)\n",
    "def c_e5(t,c_n,*args):\n",
    "    return c_ndot(t,c_n,5,False,*args)\n",
    "\n",
    "ode_syst = [c_g0,c_e0,c_g1,c_e1,c_g2,c_e2,c_g3,c_e3,c_g4,c_e4,c_g5,c_e5]"
   ]
  },
  {
   "cell_type": "code",
   "execution_count": 15,
   "metadata": {},
   "outputs": [],
   "source": [
    "# initial conditions. only state of c_g0 is present at t=0\n",
    "\n",
    "c_0 = [1,0,0,0,0,0,0,0,0,0,0,0]\n",
    "\n",
    "omeg = np.pi\n",
    "det = np.pi/6.\n",
    "lamb = 2."
   ]
  },
  {
   "cell_type": "code",
   "execution_count": 16,
   "metadata": {},
   "outputs": [],
   "source": [
    "sols_4 = odeint.solve_rk4(ode_syst,20,0.5,c_0+[0],omeg,lamb,det)\n",
    "sols_6 = odeint.solve_rk6(ode_syst,20,0.5,c_0+[0],omeg,lamb,det)\n",
    "sols_8 = odeint.solve_rk8(ode_syst,20,0.5,c_0+[0],omeg,lamb,det)"
   ]
  },
  {
   "cell_type": "code",
   "execution_count": 17,
   "metadata": {},
   "outputs": [
    {
     "name": "stdout",
     "output_type": "stream",
     "text": [
      "1.0 \t 1.0 \t 1.0\n",
      "0.7710028582386655 \t 0.7724710570586029 \t 0.7710611938508253\n",
      "1.051895952995799 \t 0.7835501062012666 \t 0.9165138432510074\n",
      "3.0455805852711655 \t 3.086480282199669 \t 3.6964369566773603\n",
      "10.96832009232965 \t 10.24490578639782 \t 16.193613985540384\n",
      "41.54546222604247 \t 35.03385668292093 \t 74.46871379248525\n",
      "119.3545369823353 \t 129.77063901589216 \t 360.1481386542618\n",
      "186.3465394288595 \t 474.13890109519525 \t 1777.1074820056597\n",
      "287.7002663517889 \t 1739.6346860041601 \t 8714.581510318452\n",
      "96155.89875002559 \t 6488.897015488139 \t 41707.85266781703\n",
      "1029377.883362433 \t 24059.004102675546 \t 190085.42303643684\n",
      "10599677.960870964 \t 89491.01206069028 \t 801616.0262394844\n",
      "591279412.5016195 \t 348311.5341064316 \t 2997087.1835649284\n",
      "5626602641.633008 \t 1389922.6237424992 \t 9434060.496246476\n",
      "265920288144.9103 \t 5264283.766298543 \t 28215471.266781446\n",
      "3743873298699.5195 \t 19267138.053911723 \t 207350081.8032261\n",
      "104757621947453.86 \t 74934609.71620019 \t 3267139767.8718815\n",
      "2535565553559259.0 \t 275040462.70192474 \t 46644605905.40605\n",
      "4.468504916263334e+16 \t 782712390.2952986 \t 563632565136.405\n",
      "1.3507722730815685e+18 \t 2190861979.691376 \t 6072037888879.337\n",
      "2.3835303496918815e+19 \t 11240764194.033691 \t 60677453941348.43\n",
      "6.401106823599458e+20 \t 75477643687.8708 \t 577224604775257.0\n",
      "1.3586483396399027e+22 \t 342075788901.29095 \t 5319958528887297.0\n",
      "3.0180026775422727e+23 \t 1396619694861.591 \t 4.8091862235746664e+16\n",
      "7.350753798533757e+24 \t 12323154679159.174 \t 4.301698053091694e+17\n",
      "1.5188348675397773e+26 \t 48637217890661.92 \t 3.830465293201139e+18\n",
      "3.738616307400881e+27 \t 45449360011866.336 \t 3.4089168536242033e+19\n",
      "8.01785016879631e+28 \t 914456935887094.1 \t 3.038856177579782e+20\n",
      "1.8601848040092772e+30 \t 1520931839415462.8 \t 2.716190445795584e+21\n",
      "4.233834876294657e+31 \t 3.3928416385549296e+16 \t 2.434584711853319e+22\n",
      "9.381371244160325e+32 \t 4.838872734609793e+17 \t 2.1875094885046556e+23\n",
      "2.1889455716965528e+34 \t 9.946254107263305e+17 \t 1.9691998501285858e+24\n",
      "4.830046918068434e+35 \t 2.4952534900371055e+19 \t 1.7749598470698108e+25\n",
      "1.1149590615862666e+37 \t 1.7178280691008602e+20 \t 1.6011245016672316e+26\n",
      "2.5061662578564558e+38 \t 3.668977629709649e+20 \t 1.4448790462757673e+27\n",
      "5.674684333043487e+39 \t 9.552123915045565e+21 \t 1.3040484039649917e+28\n",
      "1.2947943859374305e+41 \t 3.950923205617902e+22 \t 1.1769111941789943e+29\n",
      "2.907245527410831e+42 \t 1.9315448651263083e+23 \t 1.0620570533399923e+30\n",
      "6.64559183426295e+43 \t 3.650679847720533e+24 \t 9.582872968712881e+30\n",
      "1.4968912271578997e+45 \t 9.705075511431978e+24 \t 8.645509123672556e+31\n",
      "3.401935756190465e+46 \t 1.1582086496404282e+26 \t 7.799059493707541e+32\n",
      "7.710131378989853e+47 \t 1.2589936996704167e+27 \t 7.034974222976483e+33\n"
     ]
    }
   ],
   "source": [
    "# p_sols = np.zeros(sols_4.shape)\n",
    "\n",
    "for i in range(sols_4.shape[0]):\n",
    "    for j in range(sols_4.shape[1]):\n",
    "        print(abs(sols_4[i,j])**2,'\\t',abs(sols_6[i,j])**2,'\\t',abs(sols_8[i,j])**2)\n",
    "        break"
   ]
  },
  {
   "cell_type": "code",
   "execution_count": null,
   "metadata": {},
   "outputs": [],
   "source": []
  }
 ],
 "metadata": {
  "kernelspec": {
   "display_name": "Python 3",
   "language": "python",
   "name": "python3"
  },
  "language_info": {
   "codemirror_mode": {
    "name": "ipython",
    "version": 3
   },
   "file_extension": ".py",
   "mimetype": "text/x-python",
   "name": "python",
   "nbconvert_exporter": "python",
   "pygments_lexer": "ipython3",
   "version": "3.8.6"
  }
 },
 "nbformat": 4,
 "nbformat_minor": 4
}
