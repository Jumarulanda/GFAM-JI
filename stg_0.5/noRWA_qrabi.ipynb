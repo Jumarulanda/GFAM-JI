{
 "cells": [
  {
   "cell_type": "code",
   "execution_count": 20,
   "metadata": {},
   "outputs": [],
   "source": [
    "import numpy as np\n",
    "import matplotlib.pyplot as plt\n",
    "import rk_int as odeint\n",
    "\n",
    "%matplotlib inline\n",
    "plt.rcParams[\"font.family\"] = \"serif\"\n",
    "plt.rcParams['mathtext.fontset'] = 'dejavuserif'\n",
    "plt.rcParams['mathtext.rm'] = 'dejavuserif'\n",
    "plt.rcParams['mathtext.it'] = 'dejavuserif'"
   ]
  },
  {
   "cell_type": "code",
   "execution_count": 21,
   "metadata": {},
   "outputs": [],
   "source": [
    "# ODE for coefficients\n",
    "\n",
    "def c_ndot(t,c_n,n,is_g,*args):\n",
    "    omeg,lamb,det = args\n",
    "    cg = [c_n[i] for i in range(0,len(c_n),2)] + [0]\n",
    "    ce = [c_n[i] for i in range(1,len(c_n),2)] + [0]\n",
    "    \n",
    "    if is_g:\n",
    "        c_1 = cg\n",
    "        c_2 = ce\n",
    "        p1 = (omeg*(n-0.5) + det*0.5)*c_1[n]\n",
    "    else:\n",
    "        c_1 = ce\n",
    "        c_2 = cg\n",
    "        p1 = (omeg*(n+0.5) - det*0.5)*c_1[n]\n",
    "        \n",
    "    p2 = lamb*np.sqrt(n+1)*c_2[n+1]\n",
    "    p3 = lamb*np.sqrt(n)*c_2[n-1]\n",
    "    \n",
    "    return -1j*(p1+p2+p3)"
   ]
  },
  {
   "cell_type": "code",
   "execution_count": 22,
   "metadata": {},
   "outputs": [],
   "source": [
    "# For 5 photons\n",
    "\n",
    "def c_g0(t,c_n,*args):\n",
    "    return c_ndot(t,c_n,0,True,*args)\n",
    "def c_e0(t,c_n,*args):\n",
    "    return c_ndot(t,c_n,0,False,*args)\n",
    "\n",
    "def c_g1(t,c_n,*args):\n",
    "    return c_ndot(t,c_n,1,True,*args)\n",
    "def c_e1(t,c_n,*args):\n",
    "    return c_ndot(t,c_n,1,False,*args)\n",
    "\n",
    "def c_g2(t,c_n,*args):\n",
    "    return c_ndot(t,c_n,2,True,*args)\n",
    "def c_e2(t,c_n,*args):\n",
    "    return c_ndot(t,c_n,2,False,*args)\n",
    "\n",
    "def c_g3(t,c_n,*args):\n",
    "    return c_ndot(t,c_n,3,True,*args)\n",
    "def c_e3(t,c_n,*args):\n",
    "    return c_ndot(t,c_n,3,False,*args)\n",
    "\n",
    "def c_g4(t,c_n,*args):\n",
    "    return c_ndot(t,c_n,4,True,*args)\n",
    "def c_e4(t,c_n,*args):\n",
    "    return c_ndot(t,c_n,4,False,*args)\n",
    "\n",
    "def c_g5(t,c_n,*args):\n",
    "    return c_ndot(t,c_n,5,True,*args)\n",
    "def c_e5(t,c_n,*args):\n",
    "    return c_ndot(t,c_n,5,False,*args)\n",
    "\n",
    "ode_syst = [c_g0,c_e0,c_g1,c_e1,c_g2,c_e2,c_g3,c_e3,c_g4,c_e4,c_g5,c_e5]"
   ]
  },
  {
   "cell_type": "code",
   "execution_count": 23,
   "metadata": {},
   "outputs": [],
   "source": [
    "# initial conditions. only state of c_g0 is present at t=0\n",
    "\n",
    "c_0 = [1,0,0,0,0,0,0,0,0,0,0,0]\n",
    "\n",
    "omega = 1.\n",
    "detuning = 0.\n",
    "lamb_field = 1."
   ]
  },
  {
   "cell_type": "code",
   "execution_count": 24,
   "metadata": {},
   "outputs": [],
   "source": [
    "sols = odeint.solve_rk4(ode_syst,20,0.5,c_0+[0],omega,lamb_field,detuning)"
   ]
  },
  {
   "cell_type": "code",
   "execution_count": 26,
   "metadata": {},
   "outputs": [
    {
     "name": "stdout",
     "output_type": "stream",
     "text": [
      "(1+0j)\n",
      "(1.0310872395833333+0.24739583333333331j)\n",
      "(0.9331830078812031+0.6862327865066216j)\n",
      "(0.6913251561190024+1.2096918341615504j)\n",
      "(0.21192443007612732+1.7226231361316988j)\n",
      "(-0.5654526425197142+2.1273391523613068j)\n",
      "(-1.6334399225109595+2.3050068412566116j)\n",
      "(-2.948921145225103+2.156132117313395j)\n",
      "(-4.5858781308256695+1.5620297162608767j)\n",
      "(-6.747386959072843-0.24845332774741236j)\n",
      "(-7.231472695688296-5.881617942844578j)\n",
      "(8.5273944039062-11.184939958679504j)\n",
      "(48.16712785975102+59.052016789343995j)\n",
      "(-249.79644420137407+400.78701071325355j)\n",
      "(-2743.93131209681-412.30303896227855j)\n",
      "(-4477.38120486934-15726.311082081986j)\n",
      "(73178.68565339173-63866.98979858053j)\n",
      "(532705.1504759227+227616.36708011647j)\n",
      "(176205.2974853965+3456172.181529017j)\n",
      "(-18069165.23984851+10072677.490599882j)\n",
      "(-101870887.147622-70160902.61107461j)\n",
      "(105541520.96713568-732107875.6367056j)\n",
      "(4202651043.044075-1379659898.5446897j)\n",
      "(18561681814.66951+18845917580.839214j)\n",
      "(-51599039978.710495+149532916519.872j)\n",
      "(-938159039213.9124+121232062427.0426j)\n",
      "(-3144125461897.41-4702647872911.626j)\n",
      "(16827148479608.172-29346386420065.707j)\n",
      "(201933671521507.5+12086644119645.504j)\n",
      "(472280053809190.5+1113730663000739.6j)\n",
      "(-4709323652955568+5491443182325888j)\n",
      "(-4.193687537331189e+16-1.0619862073746186e+16j)\n",
      "(-5.46454657096484e+16-2.5286195108387155e+17j)\n",
      "(1.2090377757532076e+18-9.651493979785485e+17j)\n",
      "(8.38478242534575e+18+3.9090453877903196e+18j)\n",
      "(1.3611438524768666e+18+5.530570670706465e+19j)\n",
      "(-2.9260472527084346e+20+1.543705343342686e+20j)\n",
      "(-1.6049820479964638e+21-1.1566956703948408e+21j)\n",
      "(1.9271204236708757e+21-1.1672610235134442e+22j)\n",
      "(6.764500105399922e+22-2.0720250323583262e+22j)\n",
      "(2.9087556542947562e+23+3.072119309403204e+23j)\n",
      "(-8.719120083563766e+23+2.3749671133722007e+24j)\n"
     ]
    }
   ],
   "source": [
    "p_sols = np.zeros(sols.shape)\n",
    "\n",
    "for i in range(sols.shape[0]):\n",
    "    for j in range(sols.shape[1]):\n",
    "        print(sols[i,j])\n",
    "        break"
   ]
  },
  {
   "cell_type": "code",
   "execution_count": null,
   "metadata": {},
   "outputs": [],
   "source": []
  }
 ],
 "metadata": {
  "kernelspec": {
   "display_name": "Python 3",
   "language": "python",
   "name": "python3"
  },
  "language_info": {
   "codemirror_mode": {
    "name": "ipython",
    "version": 3
   },
   "file_extension": ".py",
   "mimetype": "text/x-python",
   "name": "python",
   "nbconvert_exporter": "python",
   "pygments_lexer": "ipython3",
   "version": "3.8.6"
  }
 },
 "nbformat": 4,
 "nbformat_minor": 4
}
