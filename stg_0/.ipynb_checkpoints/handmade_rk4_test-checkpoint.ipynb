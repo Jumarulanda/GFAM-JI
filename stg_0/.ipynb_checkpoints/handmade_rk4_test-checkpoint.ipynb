{
 "cells": [
  {
   "cell_type": "code",
   "execution_count": 5,
   "metadata": {},
   "outputs": [],
   "source": [
    "import numpy as np\n",
    "import rk_4_imp as rk4imp\n",
    "\n",
    "import matplotlib.pyplot as plt\n",
    "\n",
    "%matplotlib inline\n",
    "plt.rcParams[\"font.family\"] = \"serif\"\n",
    "plt.rcParams['mathtext.fontset'] = 'dejavuserif'\n",
    "plt.rcParams['mathtext.rm'] = 'dejavuserif'\n",
    "plt.rcParams['mathtext.it'] = 'dejavuserif'\n",
    "plt.rcParams['mathtext.bf'] = 'dejavuserif'"
   ]
  },
  {
   "cell_type": "code",
   "execution_count": 7,
   "metadata": {},
   "outputs": [],
   "source": [
    "def ode_syst(t,Y):\n",
    "    y1,y2 = Y\n",
    "    \n",
    "    y1_dot =  5*y1 - 3*y2\n",
    "    y2_dot =  -6*y1 + 2*y2\n",
    "    \n",
    "    return [y1_dot,y2_dot]"
   ]
  },
  {
   "cell_type": "code",
   "execution_count": null,
   "metadata": {},
   "outputs": [],
   "source": []
  }
 ],
 "metadata": {
  "kernelspec": {
   "display_name": "Python 3",
   "language": "python",
   "name": "python3"
  },
  "language_info": {
   "codemirror_mode": {
    "name": "ipython",
    "version": 3
   },
   "file_extension": ".py",
   "mimetype": "text/x-python",
   "name": "python",
   "nbconvert_exporter": "python",
   "pygments_lexer": "ipython3",
   "version": "3.8.5"
  }
 },
 "nbformat": 4,
 "nbformat_minor": 4
}
